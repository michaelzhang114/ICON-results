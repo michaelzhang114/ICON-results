{
 "cells": [
  {
   "cell_type": "markdown",
   "metadata": {},
   "source": [
    "# Reproducing Results From ICON Paper\n",
    "\n",
    "https://dl.acm.org/citation.cfm?id=3286065\n",
    "\n",
    "*CS 514: Computer Networks and Distributed Systems*\n",
    "\n",
    "*Michael Zhang and Blaire Zhang*\n"
   ]
  },
  {
   "cell_type": "markdown",
   "metadata": {},
   "source": [
    "### Import graph from gml"
   ]
  },
  {
   "cell_type": "code",
   "execution_count": 11,
   "metadata": {},
   "outputs": [],
   "source": [
    "import networkx as nx\n",
    "import queue\n",
    "import random\n",
    "import matplotlib.pyplot as plt\n",
    "import numpy as np\n",
    "\n",
    "graph = nx.read_gml('graphs/interconnect.gml', label='id')\n",
    "#graph = nx.read_gml('graphs/condensed.gml', label='id')\n",
    "#graph = nx.read_gml('graphs/condensed_west_europe.gml', label='id')"
   ]
  },
  {
   "cell_type": "markdown",
   "metadata": {},
   "source": [
    "### Create the tree data structure"
   ]
  },
  {
   "cell_type": "code",
   "execution_count": 12,
   "metadata": {},
   "outputs": [],
   "source": [
    "class TreeNode: \n",
    "    def __init__(self, data): \n",
    "        self.data = data \n",
    "        self.left = None\n",
    "        self.right = None"
   ]
  },
  {
   "cell_type": "code",
   "execution_count": 13,
   "metadata": {},
   "outputs": [],
   "source": [
    "def find_parent(root, val_to_find, dst=0):\n",
    "    return find_parent_helper(root, val_to_find, dst)\n",
    "\n",
    "def find_parent_helper(node, val, parent):\n",
    "    if node == None:\n",
    "        return None\n",
    "    \n",
    "    if node.data == val:\n",
    "        return parent\n",
    "    \n",
    "    l = find_parent_helper(node.left, val, node.data)\n",
    "    r = find_parent_helper(node.right, val, node.data)\n",
    "    if not l and not r: return None\n",
    "    if not l: return r\n",
    "    if not r: return l\n",
    "    return"
   ]
  },
  {
   "cell_type": "markdown",
   "metadata": {},
   "source": [
    "### Methods to count messages"
   ]
  },
  {
   "cell_type": "code",
   "execution_count": 19,
   "metadata": {},
   "outputs": [],
   "source": [
    "def num_neighbors(i):\n",
    "    tmp = []\n",
    "    for b in graph.neighbors(i):\n",
    "        tmp.append(b)\n",
    "    return len(tmp)\n",
    "\n",
    "def get_messages(icon_num=100, dst=372):\n",
    "    g_tree = nx.bfs_tree(graph, dst)\n",
    "    indices = sorted(random.sample(range(0, len(graph.nodes)), icon_num))\n",
    "    icons = []\n",
    "    for i in indices:\n",
    "        icons.append(list(g_tree)[i])\n",
    "\n",
    "    isPath = True\n",
    "    while True:\n",
    "        for i in range(len(icons)):    \n",
    "            if not nx.has_path(graph, icons[i], dst):\n",
    "                icons[i] = random.sample(range(0, len(graph.nodes)), 1)[0]\n",
    "        for i in icons:    \n",
    "            isPath = isPath & nx.has_path(graph, i, dst)\n",
    "        if isPath:\n",
    "            break\n",
    "    messages = 0\n",
    "    decentralized = 0\n",
    "    \n",
    "    for i in icons:\n",
    "        #centralized messages\n",
    "        messages += ( len(nx.dijkstra_path(graph, i, dst)) - 1 )\n",
    "        \n",
    "        #decentralized\n",
    "        closest = list(nx.bfs_tree(graph, i))\n",
    "        closest.pop(0)\n",
    "        tmp = 0\n",
    "        for j in closest:\n",
    "            if j in icons:\n",
    "                #print('found', len(nx.dijkstra_path(graph, i, j)))\n",
    "                tmp += len(nx.dijkstra_path(graph, i, j))\n",
    "                break\n",
    "        if tmp == 0: print(\"didn't find\")\n",
    "        decentralized += tmp\n",
    "    avg = decentralized / icon_num\n",
    "    print('avg', avg)\n",
    "    #print(decentralized)\n",
    "    return messages, decentralized, avg"
   ]
  },
  {
   "cell_type": "code",
   "execution_count": 20,
   "metadata": {},
   "outputs": [],
   "source": [
    "def num_neighbors(i):\n",
    "    tmp = []\n",
    "    for b in graph.neighbors(i):\n",
    "        tmp.append(b)\n",
    "    return len(tmp)\n",
    "\n",
    "def get_messages_tree(icon_num=100, dst=372):\n",
    "    g_tree = nx.bfs_tree(graph, dst)\n",
    "    indices = sorted(random.sample(range(0, len(graph.nodes)), icon_num))\n",
    "    icons = []\n",
    "    for i in indices:\n",
    "        icons.append(list(g_tree)[i])\n",
    "\n",
    "    # convert list into queue\n",
    "    q_icons = queue.Queue()\n",
    "    [q_icons.put(i) for i in icons]\n",
    "    \n",
    "    # create tree\n",
    "    q = queue.Queue()\n",
    "    first = TreeNode(q_icons.get())\n",
    "    q.put(first)\n",
    "\n",
    "    while not q_icons.empty():\n",
    "        curr = q.get()\n",
    "        l = q_icons.get()\n",
    "        if not q_icons.empty():\n",
    "            r = q_icons.get()\n",
    "        else:\n",
    "            r = None\n",
    "        left = TreeNode(l)\n",
    "        right = TreeNode(r)\n",
    "        curr.left = left\n",
    "        curr.right = right\n",
    "        q.put(left)\n",
    "        q.put(right)\n",
    "    \n",
    "    isPath = True\n",
    "    while True:\n",
    "        for i in range(len(icons)):    \n",
    "            if not nx.has_path(graph, icons[i], dst):\n",
    "                icons[i] = random.sample(range(0, len(graph.nodes)), 1)[0]\n",
    "        for i in icons:    \n",
    "            isPath = isPath & nx.has_path(graph, i, dst)\n",
    "        if isPath:\n",
    "            break\n",
    "    messages = 0\n",
    "    decentralized = 0\n",
    "    \n",
    "    for i in icons:\n",
    "        #centralized messages\n",
    "        messages += ( len(nx.dijkstra_path(graph, i, dst)) - 1 )\n",
    "        \n",
    "        #decentralized\n",
    "        parent = find_parent(first, i, dst)\n",
    "        decentralized += len(nx.dijkstra_path(graph, i, parent))\n",
    "    \n",
    "    avg = decentralized / icon_num\n",
    "    #print('avg', avg)\n",
    "    return messages, decentralized, avg"
   ]
  },
  {
   "cell_type": "markdown",
   "metadata": {},
   "source": [
    "### Parameters\n",
    "- `dst`: the index of the origin vertex\n",
    "- `freq`: number of trials to do and average per container #"
   ]
  },
  {
   "cell_type": "code",
   "execution_count": 21,
   "metadata": {},
   "outputs": [],
   "source": [
    "dst = random.sample(range(0, len(graph.nodes)), 1)[0]\n",
    "#dst = 971\n",
    "freq = 1"
   ]
  },
  {
   "cell_type": "code",
   "execution_count": 22,
   "metadata": {},
   "outputs": [
    {
     "name": "stdout",
     "output_type": "stream",
     "text": [
      "avg 3.94\n",
      "avg 3.308333333333333\n",
      "avg 3.1785714285714284\n",
      "avg 3.15625\n",
      "avg 3.0\n",
      "avg 3.095\n",
      "avg 2.840909090909091\n",
      "avg 2.8875\n",
      "avg 2.7807692307692307\n",
      "avg 2.85\n",
      "avg 2.6466666666666665\n",
      "avg 2.671875\n",
      "avg 2.7058823529411766\n",
      "avg 2.6\n",
      "avg 2.528947368421053\n",
      "avg 2.5375\n",
      "avg 2.466666666666667\n",
      "avg 2.4681818181818183\n",
      "avg 2.4152173913043478\n",
      "avg 2.4520833333333334\n",
      "avg 2.478\n",
      "avg 2.4346153846153844\n",
      "avg 2.4518518518518517\n",
      "avg 2.3464285714285715\n",
      "avg 2.320689655172414\n",
      "avg 2.2983333333333333\n",
      "avg 2.3403225806451613\n",
      "avg 2.21875\n",
      "avg 2.253030303030303\n",
      "avg 2.222058823529412\n",
      "avg 2.2085714285714286\n"
     ]
    }
   ],
   "source": [
    "# number of containers\n",
    "x = list(range(100, 701, 20))\n",
    "\n",
    "# number of messages\n",
    "y1 = []\n",
    "y2 = []\n",
    "\n",
    "y3 = []\n",
    "\n",
    "for i in x:\n",
    "    tmpsum = 0\n",
    "    tmpsum_dec = 0\n",
    "    tmpsum_avg = 0\n",
    "    for j in range(freq):\n",
    "        msg, dec, avg = get_messages(i, dst)\n",
    "        tmpsum += msg\n",
    "        tmpsum_dec += dec\n",
    "        tmpsum_avg += avg\n",
    "    #print(tmpsum / freq, tmpsum_dec / freq)\n",
    "    y1.append(tmpsum / freq)\n",
    "    y2.append(tmpsum_dec / freq)\n",
    "    y3.append(tmpsum_avg / freq)"
   ]
  },
  {
   "cell_type": "markdown",
   "metadata": {},
   "source": [
    "### Plots"
   ]
  },
  {
   "cell_type": "markdown",
   "metadata": {},
   "source": [
    "#### Reproducing Figure 4 from paper"
   ]
  },
  {
   "cell_type": "code",
   "execution_count": 23,
   "metadata": {},
   "outputs": [
    {
     "name": "stdout",
     "output_type": "stream",
     "text": [
      "Origin:  1139\n"
     ]
    },
    {
     "data": {
      "image/png": "[encoded data removed]",
      "text/plain": [
       "<Figure size 432x288 with 1 Axes>"
      ]
     },
     "metadata": {
      "needs_background": "light"
     },
     "output_type": "display_data"
    }
   ],
   "source": [
    "plt.plot(x, y2, 'b', label=\"ICONs\")\n",
    "plt.plot(x, y1, 'r--', label=\"Centralized\")\n",
    "plt.yscale('linear')\n",
    "plt.xlabel(\"# of containers\")\n",
    "plt.ylabel(\"# of messages\")\n",
    "plt.legend(loc=\"upper left\")\n",
    "print(\"Origin: \", dst)"
   ]
  },
  {
   "cell_type": "markdown",
   "metadata": {},
   "source": [
    "#### Isolated plot of messages vs. containers for decentralized ICONs"
   ]
  },
  {
   "cell_type": "code",
   "execution_count": 24,
   "metadata": {},
   "outputs": [
    {
     "data": {
      "text/plain": [
       "<matplotlib.legend.Legend at 0xa193920d0>"
      ]
     },
     "execution_count": 24,
     "metadata": {},
     "output_type": "execute_result"
    },
    {
     "data": {
      "image/png": "[encoded data removed]",
      "text/plain": [
       "<Figure size 432x288 with 1 Axes>"
      ]
     },
     "metadata": {
      "needs_background": "light"
     },
     "output_type": "display_data"
    }
   ],
   "source": [
    "plt.plot(x, y2, 'k', label=\"ICONs\")\n",
    "plt.xlabel(\"# of containers\")\n",
    "plt.ylabel(\"# of messages\")\n",
    "plt.legend(loc=\"upper left\")\n",
    "#plt.yscale('log')"
   ]
  },
  {
   "cell_type": "markdown",
   "metadata": {},
   "source": [
    "#### Plot showing trend of average messages per ICON"
   ]
  },
  {
   "cell_type": "code",
   "execution_count": 25,
   "metadata": {},
   "outputs": [
    {
     "data": {
      "text/plain": [
       "<matplotlib.legend.Legend at 0xa19374990>"
      ]
     },
     "execution_count": 25,
     "metadata": {},
     "output_type": "execute_result"
    },
    {
     "data": {
      "image/png": "[encoded data removed]",
      "text/plain": [
       "<Figure size 432x288 with 1 Axes>"
      ]
     },
     "metadata": {
      "needs_background": "light"
     },
     "output_type": "display_data"
    }
   ],
   "source": [
    "#print(np.array(x) * np.array(y3))\n",
    "plt.plot(x, y3, 'b', label=\"messages per ICON\")\n",
    "plt.xlabel(\"# of containers\")\n",
    "plt.ylabel(\"avg # of messages per container\")\n",
    "plt.legend(loc=\"upper left\")"
   ]
  },
  {
   "cell_type": "markdown",
   "metadata": {},
   "source": [
    "#### Alternate method using binary tree parent\n",
    "- Create overlay of ICONs that are joined together using a binary tree"
   ]
  },
  {
   "cell_type": "code",
   "execution_count": 28,
   "metadata": {},
   "outputs": [
    {
     "name": "stdout",
     "output_type": "stream",
     "text": [
      "avg 9.19\n",
      "avg 8.658333333333333\n",
      "avg 9.107142857142858\n",
      "avg 23.4\n",
      "avg 8.205555555555556\n",
      "avg 8.555\n",
      "avg 8.936363636363636\n",
      "avg 8.729166666666666\n",
      "avg 9.223076923076922\n",
      "avg 8.621428571428572\n",
      "avg 16.466666666666665\n",
      "avg 16.1125\n",
      "avg 8.91470588235294\n",
      "avg 8.872222222222222\n",
      "avg 8.673684210526316\n",
      "avg 14.485\n",
      "avg 13.90952380952381\n",
      "avg 8.847727272727273\n",
      "avg 13.58695652173913\n",
      "avg 8.877083333333333\n",
      "avg 8.808\n",
      "avg 13.392307692307693\n",
      "avg 8.670370370370371\n",
      "avg 8.848214285714286\n",
      "avg 12.843103448275862\n",
      "avg 12.595\n",
      "avg 8.73225806451613\n",
      "avg 8.7875\n",
      "avg 8.818181818181818\n",
      "avg 11.976470588235294\n",
      "avg 12.255714285714285\n"
     ]
    }
   ],
   "source": [
    "# number of containers\n",
    "x = list(range(100, 701, 20))\n",
    "\n",
    "# number of messages\n",
    "y1 = []\n",
    "y2 = []\n",
    "\n",
    "y3 = []\n",
    "\n",
    "for i in x:\n",
    "    tmpsum = 0\n",
    "    tmpsum_dec = 0\n",
    "    tmpsum_avg = 0\n",
    "    for j in range(freq):\n",
    "        msg, dec, avg = get_messages_tree(i, dst)\n",
    "        tmpsum += msg\n",
    "        tmpsum_dec += dec\n",
    "        tmpsum_avg += avg\n",
    "    #print(tmpsum / freq, tmpsum_dec / freq)\n",
    "    y1.append(tmpsum / freq)\n",
    "    y2.append(tmpsum_dec / freq)\n",
    "    y3.append(tmpsum_avg / freq)"
   ]
  },
  {
   "cell_type": "code",
   "execution_count": 29,
   "metadata": {},
   "outputs": [
    {
     "name": "stdout",
     "output_type": "stream",
     "text": [
      "Origin:  1139\n"
     ]
    },
    {
     "data": {
      "image/png": "[encoded data removed]",
      "text/plain": [
       "<Figure size 432x288 with 1 Axes>"
      ]
     },
     "metadata": {
      "needs_background": "light"
     },
     "output_type": "display_data"
    }
   ],
   "source": [
    "plt.plot(x, y2, 'b', label=\"ICONs\")\n",
    "plt.plot(x, y1, 'r--', label=\"Centralized\")\n",
    "plt.yscale('linear')\n",
    "plt.xlabel(\"# of containers\")\n",
    "plt.ylabel(\"# of messages\")\n",
    "plt.legend(loc=\"upper left\")\n",
    "print(\"Origin: \", dst)"
   ]
  }
 ],
 "metadata": {
  "kernelspec": {
   "display_name": "Python 3",
   "language": "python",
   "name": "python3"
  },
  "language_info": {
   "codemirror_mode": {
    "name": "ipython",
    "version": 3
   },
   "file_extension": ".py",
   "mimetype": "text/x-python",
   "name": "python",
   "nbconvert_exporter": "python",
   "pygments_lexer": "ipython3",
   "version": "3.7.4"
  }
 },
 "nbformat": 4,
 "nbformat_minor": 2
}
